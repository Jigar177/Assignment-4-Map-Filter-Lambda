{
 "cells": [
  {
   "cell_type": "markdown",
   "id": "af4ba07a",
   "metadata": {},
   "source": [
    "## Play with Lambda\n"
   ]
  },
  {
   "cell_type": "markdown",
   "id": "613e505f",
   "metadata": {},
   "source": [
    "## Write a Python program to create a lambda function that adds 25 to a given number passed in as an argument.\n",
    " \n",
    " \n",
    " ##  sample input : 10\n",
    " ## sample output: 35\n"
   ]
  },
  {
   "cell_type": "code",
   "execution_count": 1,
   "id": "82c3e4e9",
   "metadata": {},
   "outputs": [],
   "source": [
    "add=lambda x,y=25:x+y"
   ]
  },
  {
   "cell_type": "code",
   "execution_count": 2,
   "id": "8623b7d2",
   "metadata": {},
   "outputs": [
    {
     "name": "stdout",
     "output_type": "stream",
     "text": [
      "35\n"
     ]
    }
   ],
   "source": [
    "print(add(10))"
   ]
  },
  {
   "cell_type": "code",
   "execution_count": null,
   "id": "9c70ac49",
   "metadata": {},
   "outputs": [],
   "source": []
  },
  {
   "cell_type": "code",
   "execution_count": null,
   "id": "9539244e",
   "metadata": {},
   "outputs": [],
   "source": []
  },
  {
   "cell_type": "markdown",
   "id": "99669672",
   "metadata": {},
   "source": [
    "## write a python programm to triple all number of a given list of integers. use python map.\n",
    "\n",
    "\n",
    "## sample list : [1,2,3,4,5,6,7]\n",
    "\n",
    "\n",
    "\n",
    "\n",
    "## triple of list numbers:\n",
    "\n",
    "[3,6,9,12,15,18,21]"
   ]
  },
  {
   "cell_type": "code",
   "execution_count": 3,
   "id": "f71aea03",
   "metadata": {},
   "outputs": [],
   "source": [
    "lis=[1,2,3,4,5,6,7]"
   ]
  },
  {
   "cell_type": "code",
   "execution_count": 7,
   "id": "638e3ff6",
   "metadata": {},
   "outputs": [
    {
     "name": "stdout",
     "output_type": "stream",
     "text": [
      "[3, 6, 9, 12, 15, 18, 21]\n"
     ]
    }
   ],
   "source": [
    "print(list(map(lambda v:(v*3),lis)))"
   ]
  },
  {
   "cell_type": "code",
   "execution_count": null,
   "id": "842dc47f",
   "metadata": {},
   "outputs": [],
   "source": []
  },
  {
   "cell_type": "code",
   "execution_count": null,
   "id": "72d9ef9a",
   "metadata": {},
   "outputs": [],
   "source": []
  },
  {
   "cell_type": "markdown",
   "id": "4dc53f5b",
   "metadata": {},
   "source": [
    "## write a python program to square the elements of a list using map() function.\n",
    "\n",
    "## sample list : [4,5,2,9] \n",
    "\n",
    "## square the elements  of the list:\n",
    "\n",
    "[16,25,4,81]"
   ]
  },
  {
   "cell_type": "markdown",
   "id": "2ef535f0",
   "metadata": {},
   "source": []
  },
  {
   "cell_type": "code",
   "execution_count": 8,
   "id": "e6775bd0",
   "metadata": {},
   "outputs": [],
   "source": [
    "l=[4,5,2,9]"
   ]
  },
  {
   "cell_type": "code",
   "execution_count": 9,
   "id": "2a97f5a8",
   "metadata": {},
   "outputs": [
    {
     "name": "stdout",
     "output_type": "stream",
     "text": [
      "[16, 25, 4, 81]\n"
     ]
    }
   ],
   "source": [
    "print(list(map(lambda i :(i**2),l)))"
   ]
  },
  {
   "cell_type": "code",
   "execution_count": null,
   "id": "6e81bafd",
   "metadata": {},
   "outputs": [],
   "source": []
  },
  {
   "cell_type": "code",
   "execution_count": null,
   "id": "ce74d0d4",
   "metadata": {},
   "outputs": [],
   "source": []
  },
  {
   "cell_type": "code",
   "execution_count": null,
   "id": "f13488a0",
   "metadata": {},
   "outputs": [],
   "source": []
  }
 ],
 "metadata": {
  "kernelspec": {
   "display_name": "Python 3 (ipykernel)",
   "language": "python",
   "name": "python3"
  },
  "language_info": {
   "codemirror_mode": {
    "name": "ipython",
    "version": 3
   },
   "file_extension": ".py",
   "mimetype": "text/x-python",
   "name": "python",
   "nbconvert_exporter": "python",
   "pygments_lexer": "ipython3",
   "version": "3.10.2"
  }
 },
 "nbformat": 4,
 "nbformat_minor": 5
}
